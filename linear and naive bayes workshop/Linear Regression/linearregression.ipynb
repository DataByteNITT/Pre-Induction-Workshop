{
 "cells": [
  {
   "cell_type": "markdown",
   "metadata": {
    "_cell_guid": "6a3d53e8-ee9e-83ab-cf32-782361dcfe92",
    "slideshow": {
     "slide_type": "slide"
    }
   },
   "source": [
    "# Welcome \n",
    "This is a sandpit to play around with **panda**, **numpy**, and **sklearn** on a very simple __**linear regression**__. Having such a simple dataset  to play with (it's only got one feature) means we can concentrate on using the commands rather than being overly concerned about the data. We am following a process of:\n",
    "\n",
    "1. Load data\n",
    "2. Clean data\n",
    "3. Train model with training dataset\n",
    "4. Test the trained model with provided test dataset"
   ]
  },
  {
   "cell_type": "code",
   "execution_count": 30,
   "metadata": {
    "_cell_guid": "74853f7f-9f7e-6976-2e94-d2c0bbcde92a",
    "collapsed": false,
    "slideshow": {
     "slide_type": "slide"
    }
   },
   "outputs": [
    {
     "data": {
      "text/html": [
       "<div>\n",
       "<style>\n",
       "    .dataframe thead tr:only-child th {\n",
       "        text-align: right;\n",
       "    }\n",
       "\n",
       "    .dataframe thead th {\n",
       "        text-align: left;\n",
       "    }\n",
       "\n",
       "    .dataframe tbody tr th {\n",
       "        vertical-align: top;\n",
       "    }\n",
       "</style>\n",
       "<table border=\"1\" class=\"dataframe\">\n",
       "  <thead>\n",
       "    <tr style=\"text-align: right;\">\n",
       "      <th></th>\n",
       "      <th>x</th>\n",
       "      <th>y</th>\n",
       "    </tr>\n",
       "  </thead>\n",
       "  <tbody>\n",
       "    <tr>\n",
       "      <th>count</th>\n",
       "      <td>699.000000</td>\n",
       "      <td>699.000000</td>\n",
       "    </tr>\n",
       "    <tr>\n",
       "      <th>mean</th>\n",
       "      <td>50.014306</td>\n",
       "      <td>49.939869</td>\n",
       "    </tr>\n",
       "    <tr>\n",
       "      <th>std</th>\n",
       "      <td>28.954560</td>\n",
       "      <td>29.109217</td>\n",
       "    </tr>\n",
       "    <tr>\n",
       "      <th>min</th>\n",
       "      <td>0.000000</td>\n",
       "      <td>-3.839981</td>\n",
       "    </tr>\n",
       "    <tr>\n",
       "      <th>25%</th>\n",
       "      <td>25.000000</td>\n",
       "      <td>24.929968</td>\n",
       "    </tr>\n",
       "    <tr>\n",
       "      <th>50%</th>\n",
       "      <td>49.000000</td>\n",
       "      <td>48.973020</td>\n",
       "    </tr>\n",
       "    <tr>\n",
       "      <th>75%</th>\n",
       "      <td>75.000000</td>\n",
       "      <td>74.929911</td>\n",
       "    </tr>\n",
       "    <tr>\n",
       "      <th>max</th>\n",
       "      <td>100.000000</td>\n",
       "      <td>108.871618</td>\n",
       "    </tr>\n",
       "  </tbody>\n",
       "</table>\n",
       "</div>"
      ],
      "text/plain": [
       "                x           y\n",
       "count  699.000000  699.000000\n",
       "mean    50.014306   49.939869\n",
       "std     28.954560   29.109217\n",
       "min      0.000000   -3.839981\n",
       "25%     25.000000   24.929968\n",
       "50%     49.000000   48.973020\n",
       "75%     75.000000   74.929911\n",
       "max    100.000000  108.871618"
      ]
     },
     "execution_count": 30,
     "metadata": {},
     "output_type": "execute_result"
    }
   ],
   "source": [
    "# Import the required libraries\n",
    "from sklearn import linear_model\n",
    "import pandas as pd\n",
    "import matplotlib.pyplot as plt\n",
    "import numpy as np\n",
    "import math   # yep! going to a bit of maths later!!\n",
    "# Load up the files \n",
    "dirty_training_set = pd.read_csv('./input/train.csv')\n",
    "dirty_test_set = pd.read_csv('./input/test.csv')\n",
    "\n",
    "# clean the data by dropping dodgy data\n",
    "training_set = dirty_training_set.dropna() \n",
    "test_set = dirty_test_set.dropna() \n",
    "\n",
    "# we print a simple description of the newly cleaned data\n",
    "training_set.describe()"
   ]
  },
  {
   "cell_type": "code",
   "execution_count": null,
   "metadata": {
    "collapsed": true
   },
   "outputs": [],
   "source": []
  },
  {
   "cell_type": "markdown",
   "metadata": {
    "slideshow": {
     "slide_type": "slide"
    }
   },
   "source": [
    "# We now create the test and training sets"
   ]
  },
  {
   "cell_type": "code",
   "execution_count": null,
   "metadata": {
    "collapsed": true
   },
   "outputs": [],
   "source": []
  },
  {
   "cell_type": "code",
   "execution_count": 8,
   "metadata": {
    "_cell_guid": "95911182-22c8-22dc-0c0a-4bc90c1c354e",
    "collapsed": false,
    "slideshow": {
     "slide_type": "slide"
    }
   },
   "outputs": [
    {
     "data": {
      "image/png": "[encoded data removed]",
      "text/plain": [
       "<matplotlib.figure.Figure at 0x1956473ef98>"
      ]
     },
     "metadata": {},
     "output_type": "display_data"
    },
    {
     "data": {
      "image/png": "[encoded data removed]",
      "text/plain": [
       "<matplotlib.figure.Figure at 0x195648ff208>"
      ]
     },
     "metadata": {},
     "output_type": "display_data"
    }
   ],
   "source": [
    "# for training\n",
    "x_training_set = training_set.as_matrix(['x'])\n",
    "y_training_set = training_set.as_matrix(['y'])\n",
    "# for testing \n",
    "x_test_set = test_set.as_matrix(['x'])\n",
    "y_test_set = test_set.as_matrix(['y'])\n",
    "\n",
    "# So let's plot some of the data \n",
    "# - this gives some core routines to experiment with different parameters\n",
    "plt.title('Relationship between X and Y')\n",
    "# black color is for the points that will be plotted\n",
    "plt.scatter(x_training_set, y_training_set,  color='black')\n",
    "plt.show()\n",
    "\n",
    "# Use subplot to have graphs side by side\n",
    "plt.subplot(1, 2, 1)\n",
    "plt.title('X training set')\n",
    "plt.hist(x_training_set)\n",
    "\n",
    "plt.subplot(1, 2, 2)\n",
    "plt.title('Y training set')\n",
    "plt.hist(y_training_set)\n",
    "plt.show()"
   ]
  },
  {
   "cell_type": "markdown",
   "metadata": {
    "_cell_guid": "6870e81e-93f4-5836-0343-d7f5f376f7db"
   },
   "source": [
    "Does really show very much but we are not really here for the data.  The data isn't normal and there doesn't seem to be any outliers to worry about."
   ]
  },
  {
   "cell_type": "code",
   "execution_count": 33,
   "metadata": {
    "_cell_guid": "629e6ada-fcda-d7a2-7e26-346fdee737df",
    "collapsed": false
   },
   "outputs": [
    {
     "name": "stdout",
     "output_type": "stream",
     "text": [
      "We have now created our linear model\n"
     ]
    }
   ],
   "source": [
    "# Now to set up the linear regression model\n",
    "# Create linear regression object\n",
    "lm = linear_model.LinearRegression()\n",
    "# ... then fit it\n",
    "lm.fit(x_training_set,y_training_set)\n",
    "\n",
    "print ( \"We have now created our linear model\")"
   ]
  },
  {
   "cell_type": "markdown",
   "metadata": {},
   "source": [
    "# Now our Linear model is ready, so now we run the predictions"
   ]
  },
  {
   "cell_type": "code",
   "execution_count": 29,
   "metadata": {
    "_cell_guid": "a52a815f-0649-a9fb-ed88-15c5d5959d54",
    "collapsed": false
   },
   "outputs": [
    {
     "data": {
      "image/png": "[encoded data removed]",
      "text/plain": [
       "<matplotlib.figure.Figure at 0x19565d7d198>"
      ]
     },
     "metadata": {},
     "output_type": "display_data"
    }
   ],
   "source": [
    "# So let's run the model against the test data\n",
    "y_predicted = lm.predict(x_test_set)\n",
    "plt.title('Comparison of Y values in test and the Predicted values')\n",
    "plt.ylabel('Test Set')\n",
    "plt.xlabel('Predicted values')\n",
    "plt.scatter(y_predicted, y_test_set,  color='black')\n",
    "plt.plot(x_test_set, y_predicted, color='blue',\n",
    "         linewidth=3)\n",
    "plt.show()\n",
    "\n"
   ]
  },
  {
   "cell_type": "markdown",
   "metadata": {
    "_cell_guid": "a6f2ceda-31f8-42ef-c0f2-40ee6afb99d1"
   },
   "source": [
    "# As we expected it's a really good fit!!, and that concludes our work today, we will see you tomorrow for part 2..."
   ]
  },
  {
   "cell_type": "code",
   "execution_count": null,
   "metadata": {
    "collapsed": true
   },
   "outputs": [],
   "source": []
  }
 ],
 "metadata": {
  "_change_revision": 74,
  "_is_fork": false,
  "celltoolbar": "Slideshow",
  "kernelspec": {
   "display_name": "Python 3",
   "language": "python",
   "name": "python3"
  },
  "language_info": {
   "codemirror_mode": {
    "name": "ipython",
    "version": 3
   },
   "file_extension": ".py",
   "mimetype": "text/x-python",
   "name": "python",
   "nbconvert_exporter": "python",
   "pygments_lexer": "ipython3",
   "version": "3.6.0"
  }
 },
 "nbformat": 4,
 "nbformat_minor": 1
}
